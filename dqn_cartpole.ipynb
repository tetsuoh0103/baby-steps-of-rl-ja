{
 "cells": [
  {
   "cell_type": "code",
   "execution_count": 1,
   "metadata": {},
   "outputs": [
    {
     "name": "stderr",
     "output_type": "stream",
     "text": [
      "Using TensorFlow backend.\n"
     ]
    },
    {
     "name": "stdout",
     "output_type": "stream",
     "text": [
      "Model: \"sequential_1\"\n",
      "_________________________________________________________________\n",
      "Layer (type)                 Output Shape              Param #   \n",
      "=================================================================\n",
      "flatten_1 (Flatten)          (None, 4)                 0         \n",
      "_________________________________________________________________\n",
      "dense_1 (Dense)              (None, 16)                80        \n",
      "_________________________________________________________________\n",
      "activation_1 (Activation)    (None, 16)                0         \n",
      "_________________________________________________________________\n",
      "dense_2 (Dense)              (None, 16)                272       \n",
      "_________________________________________________________________\n",
      "activation_2 (Activation)    (None, 16)                0         \n",
      "_________________________________________________________________\n",
      "dense_3 (Dense)              (None, 16)                272       \n",
      "_________________________________________________________________\n",
      "activation_3 (Activation)    (None, 16)                0         \n",
      "_________________________________________________________________\n",
      "dense_4 (Dense)              (None, 2)                 34        \n",
      "_________________________________________________________________\n",
      "activation_4 (Activation)    (None, 2)                 0         \n",
      "=================================================================\n",
      "Total params: 658\n",
      "Trainable params: 658\n",
      "Non-trainable params: 0\n",
      "_________________________________________________________________\n",
      "None\n",
      "Training for 10000 steps ...\n",
      "WARNING:tensorflow:From C:\\Users\\horig\\Anaconda3\\envs\\rl-book\\lib\\site-packages\\keras\\backend\\tensorflow_backend.py:422: The name tf.global_variables is deprecated. Please use tf.compat.v1.global_variables instead.\n",
      "\n"
     ]
    },
    {
     "name": "stderr",
     "output_type": "stream",
     "text": [
      "C:\\Users\\horig\\Anaconda3\\envs\\rl-book\\lib\\site-packages\\rl\\memory.py:39: UserWarning: Not enough entries to sample without replacement. Consider increasing your warm-up phase to avoid oversampling!\n",
      "  warnings.warn('Not enough entries to sample without replacement. Consider increasing your warm-up phase to avoid oversampling!')\n"
     ]
    },
    {
     "name": "stdout",
     "output_type": "stream",
     "text": [
      "   25/10000: episode: 1, duration: 1.539s, episode steps: 25, steps per second: 16, episode reward: 25.000, mean reward: 1.000 [1.000, 1.000], mean action: 0.560 [0.000, 1.000], mean observation: -0.075 [-1.581, 0.783], loss: 0.498124, mae: 0.519847, mean_q: 0.082007\n"
     ]
    },
    {
     "name": "stderr",
     "output_type": "stream",
     "text": [
      "C:\\Users\\horig\\Anaconda3\\envs\\rl-book\\lib\\site-packages\\rl\\memory.py:39: UserWarning: Not enough entries to sample without replacement. Consider increasing your warm-up phase to avoid oversampling!\n",
      "  warnings.warn('Not enough entries to sample without replacement. Consider increasing your warm-up phase to avoid oversampling!')\n"
     ]
    },
    {
     "name": "stdout",
     "output_type": "stream",
     "text": [
      "   48/10000: episode: 2, duration: 0.383s, episode steps: 23, steps per second: 60, episode reward: 23.000, mean reward: 1.000 [1.000, 1.000], mean action: 0.652 [0.000, 1.000], mean observation: -0.015 [-2.217, 1.421], loss: 0.393391, mae: 0.543421, mean_q: 0.365445\n",
      "   72/10000: episode: 3, duration: 0.399s, episode steps: 24, steps per second: 60, episode reward: 24.000, mean reward: 1.000 [1.000, 1.000], mean action: 0.458 [0.000, 1.000], mean observation: 0.101 [-0.730, 1.389], loss: 0.249876, mae: 0.626606, mean_q: 0.787751\n",
      "  107/10000: episode: 4, duration: 0.583s, episode steps: 35, steps per second: 60, episode reward: 35.000, mean reward: 1.000 [1.000, 1.000], mean action: 0.571 [0.000, 1.000], mean observation: -0.055 [-1.904, 0.971], loss: 0.116032, mae: 0.734266, mean_q: 1.173606\n",
      "  133/10000: episode: 5, duration: 0.432s, episode steps: 26, steps per second: 60, episode reward: 26.000, mean reward: 1.000 [1.000, 1.000], mean action: 0.577 [0.000, 1.000], mean observation: -0.059 [-2.024, 1.218], loss: 0.054210, mae: 0.832688, mean_q: 1.461497\n",
      "  187/10000: episode: 6, duration: 0.900s, episode steps: 54, steps per second: 60, episode reward: 54.000, mean reward: 1.000 [1.000, 1.000], mean action: 0.556 [0.000, 1.000], mean observation: -0.028 [-1.863, 1.424], loss: 0.027579, mae: 0.861079, mean_q: 1.618971\n",
      "  201/10000: episode: 7, duration: 0.233s, episode steps: 14, steps per second: 60, episode reward: 14.000, mean reward: 1.000 [1.000, 1.000], mean action: 0.286 [0.000, 1.000], mean observation: 0.103 [-1.328, 2.204], loss: 0.023984, mae: 0.973696, mean_q: 1.874093\n",
      "  216/10000: episode: 8, duration: 0.249s, episode steps: 15, steps per second: 60, episode reward: 15.000, mean reward: 1.000 [1.000, 1.000], mean action: 0.600 [0.000, 1.000], mean observation: -0.081 [-1.639, 0.978], loss: 0.028942, mae: 1.050022, mean_q: 2.043067\n",
      "  229/10000: episode: 9, duration: 0.216s, episode steps: 13, steps per second: 60, episode reward: 13.000, mean reward: 1.000 [1.000, 1.000], mean action: 0.769 [0.000, 1.000], mean observation: -0.095 [-2.291, 1.420], loss: 0.027294, mae: 1.097371, mean_q: 2.133321\n",
      "  240/10000: episode: 10, duration: 0.182s, episode steps: 11, steps per second: 60, episode reward: 11.000, mean reward: 1.000 [1.000, 1.000], mean action: 0.364 [0.000, 1.000], mean observation: 0.101 [-1.000, 1.680], loss: 0.028852, mae: 1.158569, mean_q: 2.256001\n",
      "  267/10000: episode: 11, duration: 0.451s, episode steps: 27, steps per second: 60, episode reward: 27.000, mean reward: 1.000 [1.000, 1.000], mean action: 0.407 [0.000, 1.000], mean observation: 0.030 [-1.199, 1.797], loss: 0.042626, mae: 1.232812, mean_q: 2.392394\n",
      "  284/10000: episode: 12, duration: 0.282s, episode steps: 17, steps per second: 60, episode reward: 17.000, mean reward: 1.000 [1.000, 1.000], mean action: 0.294 [0.000, 1.000], mean observation: 0.095 [-1.335, 2.327], loss: 0.051682, mae: 1.345042, mean_q: 2.641532\n",
      "  302/10000: episode: 13, duration: 0.299s, episode steps: 18, steps per second: 60, episode reward: 18.000, mean reward: 1.000 [1.000, 1.000], mean action: 0.333 [0.000, 1.000], mean observation: 0.095 [-1.141, 2.028], loss: 0.059393, mae: 1.419599, mean_q: 2.795984\n",
      "  325/10000: episode: 14, duration: 0.383s, episode steps: 23, steps per second: 60, episode reward: 23.000, mean reward: 1.000 [1.000, 1.000], mean action: 0.261 [0.000, 1.000], mean observation: 0.046 [-2.125, 3.189], loss: 0.082756, mae: 1.506849, mean_q: 2.984375\n",
      "  342/10000: episode: 15, duration: 0.282s, episode steps: 17, steps per second: 60, episode reward: 17.000, mean reward: 1.000 [1.000, 1.000], mean action: 0.647 [0.000, 1.000], mean observation: -0.098 [-1.821, 0.984], loss: 0.139283, mae: 1.631665, mean_q: 3.185085\n",
      "  370/10000: episode: 16, duration: 0.467s, episode steps: 28, steps per second: 60, episode reward: 28.000, mean reward: 1.000 [1.000, 1.000], mean action: 0.571 [0.000, 1.000], mean observation: -0.025 [-1.582, 1.172], loss: 0.131758, mae: 1.705132, mean_q: 3.282041\n",
      "  388/10000: episode: 17, duration: 0.298s, episode steps: 18, steps per second: 60, episode reward: 18.000, mean reward: 1.000 [1.000, 1.000], mean action: 0.333 [0.000, 1.000], mean observation: 0.057 [-1.161, 1.927], loss: 0.095618, mae: 1.809855, mean_q: 3.534457\n",
      "  398/10000: episode: 18, duration: 0.167s, episode steps: 10, steps per second: 60, episode reward: 10.000, mean reward: 1.000 [1.000, 1.000], mean action: 0.800 [0.000, 1.000], mean observation: -0.128 [-2.222, 1.362], loss: 0.125302, mae: 1.834878, mean_q: 3.570472\n",
      "  423/10000: episode: 19, duration: 0.416s, episode steps: 25, steps per second: 60, episode reward: 25.000, mean reward: 1.000 [1.000, 1.000], mean action: 0.360 [0.000, 1.000], mean observation: 0.059 [-1.345, 2.180], loss: 0.134373, mae: 1.914668, mean_q: 3.711106\n",
      "  453/10000: episode: 20, duration: 0.500s, episode steps: 30, steps per second: 60, episode reward: 30.000, mean reward: 1.000 [1.000, 1.000], mean action: 0.633 [0.000, 1.000], mean observation: 0.014 [-2.214, 1.558], loss: 0.161056, mae: 2.032588, mean_q: 3.909292\n",
      "  465/10000: episode: 21, duration: 0.200s, episode steps: 12, steps per second: 60, episode reward: 12.000, mean reward: 1.000 [1.000, 1.000], mean action: 0.417 [0.000, 1.000], mean observation: 0.128 [-0.765, 1.349], loss: 0.101701, mae: 2.126284, mean_q: 4.154297\n",
      "  503/10000: episode: 22, duration: 0.632s, episode steps: 38, steps per second: 60, episode reward: 38.000, mean reward: 1.000 [1.000, 1.000], mean action: 0.553 [0.000, 1.000], mean observation: 0.001 [-1.784, 1.343], loss: 0.142960, mae: 2.214817, mean_q: 4.270509\n",
      "  514/10000: episode: 23, duration: 0.183s, episode steps: 11, steps per second: 60, episode reward: 11.000, mean reward: 1.000 [1.000, 1.000], mean action: 0.364 [0.000, 1.000], mean observation: 0.125 [-1.139, 1.900], loss: 0.125174, mae: 2.320634, mean_q: 4.525124\n",
      "  554/10000: episode: 24, duration: 0.667s, episode steps: 40, steps per second: 60, episode reward: 40.000, mean reward: 1.000 [1.000, 1.000], mean action: 0.375 [0.000, 1.000], mean observation: -0.006 [-2.108, 2.729], loss: 0.136251, mae: 2.430447, mean_q: 4.736722\n",
      "  567/10000: episode: 25, duration: 0.216s, episode steps: 13, steps per second: 60, episode reward: 13.000, mean reward: 1.000 [1.000, 1.000], mean action: 0.385 [0.000, 1.000], mean observation: 0.081 [-0.996, 1.590], loss: 0.151603, mae: 2.528472, mean_q: 4.918906\n",
      "  593/10000: episode: 26, duration: 0.433s, episode steps: 26, steps per second: 60, episode reward: 26.000, mean reward: 1.000 [1.000, 1.000], mean action: 0.577 [0.000, 1.000], mean observation: -0.048 [-1.697, 1.002], loss: 0.167195, mae: 2.640771, mean_q: 5.107494\n",
      "  605/10000: episode: 27, duration: 0.199s, episode steps: 12, steps per second: 60, episode reward: 12.000, mean reward: 1.000 [1.000, 1.000], mean action: 0.750 [0.000, 1.000], mean observation: -0.140 [-2.139, 1.174], loss: 0.174553, mae: 2.718134, mean_q: 5.238609\n",
      "  623/10000: episode: 28, duration: 0.299s, episode steps: 18, steps per second: 60, episode reward: 18.000, mean reward: 1.000 [1.000, 1.000], mean action: 0.333 [0.000, 1.000], mean observation: 0.083 [-1.236, 2.232], loss: 0.199159, mae: 2.754749, mean_q: 5.319685\n",
      "  649/10000: episode: 29, duration: 0.432s, episode steps: 26, steps per second: 60, episode reward: 26.000, mean reward: 1.000 [1.000, 1.000], mean action: 0.385 [0.000, 1.000], mean observation: 0.091 [-1.141, 2.153], loss: 0.171836, mae: 2.841263, mean_q: 5.527792\n",
      "  666/10000: episode: 30, duration: 0.283s, episode steps: 17, steps per second: 60, episode reward: 17.000, mean reward: 1.000 [1.000, 1.000], mean action: 0.235 [0.000, 1.000], mean observation: 0.088 [-1.716, 2.795], loss: 0.149653, mae: 2.952701, mean_q: 5.740916\n",
      "  683/10000: episode: 31, duration: 0.283s, episode steps: 17, steps per second: 60, episode reward: 17.000, mean reward: 1.000 [1.000, 1.000], mean action: 0.353 [0.000, 1.000], mean observation: 0.066 [-1.017, 1.698], loss: 0.178718, mae: 2.993467, mean_q: 5.741606\n",
      "  696/10000: episode: 32, duration: 0.216s, episode steps: 13, steps per second: 60, episode reward: 13.000, mean reward: 1.000 [1.000, 1.000], mean action: 0.385 [0.000, 1.000], mean observation: 0.091 [-0.829, 1.313], loss: 0.200275, mae: 3.019718, mean_q: 5.804572\n"
     ]
    },
    {
     "name": "stdout",
     "output_type": "stream",
     "text": [
      "  737/10000: episode: 33, duration: 0.682s, episode steps: 41, steps per second: 60, episode reward: 41.000, mean reward: 1.000 [1.000, 1.000], mean action: 0.512 [0.000, 1.000], mean observation: 0.134 [-0.582, 1.125], loss: 0.180250, mae: 3.164835, mean_q: 6.078607\n",
      "  750/10000: episode: 34, duration: 0.217s, episode steps: 13, steps per second: 60, episode reward: 13.000, mean reward: 1.000 [1.000, 1.000], mean action: 0.231 [0.000, 1.000], mean observation: 0.112 [-1.324, 2.306], loss: 0.170638, mae: 3.225868, mean_q: 6.187068\n",
      "  788/10000: episode: 35, duration: 0.632s, episode steps: 38, steps per second: 60, episode reward: 38.000, mean reward: 1.000 [1.000, 1.000], mean action: 0.474 [0.000, 1.000], mean observation: 0.112 [-0.457, 1.640], loss: 0.172828, mae: 3.327054, mean_q: 6.413287\n",
      "  814/10000: episode: 36, duration: 0.432s, episode steps: 26, steps per second: 60, episode reward: 26.000, mean reward: 1.000 [1.000, 1.000], mean action: 0.577 [0.000, 1.000], mean observation: -0.090 [-1.757, 0.783], loss: 0.233277, mae: 3.425073, mean_q: 6.579776\n",
      "  853/10000: episode: 37, duration: 0.650s, episode steps: 39, steps per second: 60, episode reward: 39.000, mean reward: 1.000 [1.000, 1.000], mean action: 0.462 [0.000, 1.000], mean observation: -0.005 [-1.330, 1.599], loss: 0.174396, mae: 3.567493, mean_q: 6.899722\n",
      "  883/10000: episode: 38, duration: 0.499s, episode steps: 30, steps per second: 60, episode reward: 30.000, mean reward: 1.000 [1.000, 1.000], mean action: 0.500 [0.000, 1.000], mean observation: -0.083 [-1.135, 0.800], loss: 0.182002, mae: 3.700278, mean_q: 7.191817\n",
      "  913/10000: episode: 39, duration: 0.500s, episode steps: 30, steps per second: 60, episode reward: 30.000, mean reward: 1.000 [1.000, 1.000], mean action: 0.500 [0.000, 1.000], mean observation: -0.099 [-1.092, 0.588], loss: 0.202281, mae: 3.848130, mean_q: 7.494046\n",
      "  927/10000: episode: 40, duration: 0.233s, episode steps: 14, steps per second: 60, episode reward: 14.000, mean reward: 1.000 [1.000, 1.000], mean action: 0.357 [0.000, 1.000], mean observation: 0.082 [-1.188, 1.893], loss: 0.166208, mae: 3.976328, mean_q: 7.774326\n",
      "  948/10000: episode: 41, duration: 0.348s, episode steps: 21, steps per second: 60, episode reward: 21.000, mean reward: 1.000 [1.000, 1.000], mean action: 0.429 [0.000, 1.000], mean observation: 0.096 [-1.172, 1.900], loss: 0.217344, mae: 3.938391, mean_q: 7.682676\n",
      "  959/10000: episode: 42, duration: 0.183s, episode steps: 11, steps per second: 60, episode reward: 11.000, mean reward: 1.000 [1.000, 1.000], mean action: 0.455 [0.000, 1.000], mean observation: 0.094 [-1.025, 1.496], loss: 0.306212, mae: 4.018137, mean_q: 7.789192\n",
      "  970/10000: episode: 43, duration: 0.182s, episode steps: 11, steps per second: 60, episode reward: 11.000, mean reward: 1.000 [1.000, 1.000], mean action: 0.364 [0.000, 1.000], mean observation: 0.140 [-0.754, 1.489], loss: 0.269456, mae: 4.171307, mean_q: 8.153480\n",
      "  994/10000: episode: 44, duration: 0.400s, episode steps: 24, steps per second: 60, episode reward: 24.000, mean reward: 1.000 [1.000, 1.000], mean action: 0.583 [0.000, 1.000], mean observation: -0.039 [-1.602, 1.020], loss: 0.318511, mae: 4.143766, mean_q: 8.035454\n",
      " 1026/10000: episode: 45, duration: 0.532s, episode steps: 32, steps per second: 60, episode reward: 32.000, mean reward: 1.000 [1.000, 1.000], mean action: 0.500 [0.000, 1.000], mean observation: 0.108 [-0.382, 1.320], loss: 0.277693, mae: 4.296110, mean_q: 8.398670\n",
      " 1104/10000: episode: 46, duration: 1.299s, episode steps: 78, steps per second: 60, episode reward: 78.000, mean reward: 1.000 [1.000, 1.000], mean action: 0.487 [0.000, 1.000], mean observation: 0.144 [-1.239, 1.477], loss: 0.282819, mae: 4.477760, mean_q: 8.794148\n",
      " 1142/10000: episode: 47, duration: 0.633s, episode steps: 38, steps per second: 60, episode reward: 38.000, mean reward: 1.000 [1.000, 1.000], mean action: 0.526 [0.000, 1.000], mean observation: 0.103 [-0.634, 1.215], loss: 0.248465, mae: 4.741561, mean_q: 9.355746\n",
      " 1182/10000: episode: 48, duration: 0.666s, episode steps: 40, steps per second: 60, episode reward: 40.000, mean reward: 1.000 [1.000, 1.000], mean action: 0.500 [0.000, 1.000], mean observation: -0.013 [-1.477, 1.125], loss: 0.323080, mae: 4.891287, mean_q: 9.692008\n",
      " 1205/10000: episode: 49, duration: 0.383s, episode steps: 23, steps per second: 60, episode reward: 23.000, mean reward: 1.000 [1.000, 1.000], mean action: 0.522 [0.000, 1.000], mean observation: -0.084 [-1.168, 0.591], loss: 0.297841, mae: 4.978707, mean_q: 9.838463\n",
      " 1274/10000: episode: 50, duration: 1.153s, episode steps: 69, steps per second: 60, episode reward: 69.000, mean reward: 1.000 [1.000, 1.000], mean action: 0.507 [0.000, 1.000], mean observation: -0.110 [-1.519, 0.720], loss: 0.422051, mae: 5.216334, mean_q: 10.327990\n",
      " 1345/10000: episode: 51, duration: 1.180s, episode steps: 71, steps per second: 60, episode reward: 71.000, mean reward: 1.000 [1.000, 1.000], mean action: 0.507 [0.000, 1.000], mean observation: -0.054 [-1.245, 1.237], loss: 0.466731, mae: 5.450936, mean_q: 10.816445\n",
      " 1470/10000: episode: 52, duration: 2.083s, episode steps: 125, steps per second: 60, episode reward: 125.000, mean reward: 1.000 [1.000, 1.000], mean action: 0.480 [0.000, 1.000], mean observation: -0.199 [-1.337, 0.931], loss: 0.406287, mae: 5.935829, mean_q: 11.866149\n",
      " 1499/10000: episode: 53, duration: 0.484s, episode steps: 29, steps per second: 60, episode reward: 29.000, mean reward: 1.000 [1.000, 1.000], mean action: 0.448 [0.000, 1.000], mean observation: 0.003 [-1.006, 1.214], loss: 0.368661, mae: 6.329728, mean_q: 12.703062\n",
      " 1698/10000: episode: 54, duration: 3.315s, episode steps: 199, steps per second: 60, episode reward: 199.000, mean reward: 1.000 [1.000, 1.000], mean action: 0.477 [0.000, 1.000], mean observation: -0.267 [-2.037, 1.174], loss: 0.466964, mae: 6.810308, mean_q: 13.740397\n",
      " 1898/10000: episode: 55, duration: 3.333s, episode steps: 200, steps per second: 60, episode reward: 200.000, mean reward: 1.000 [1.000, 1.000], mean action: 0.490 [0.000, 1.000], mean observation: -0.114 [-1.311, 1.271], loss: 0.576659, mae: 7.781931, mean_q: 15.845625\n",
      " 2064/10000: episode: 56, duration: 2.765s, episode steps: 166, steps per second: 60, episode reward: 166.000, mean reward: 1.000 [1.000, 1.000], mean action: 0.464 [0.000, 1.000], mean observation: -0.405 [-2.433, 0.968], loss: 0.629240, mae: 8.719394, mean_q: 17.781374\n",
      " 2264/10000: episode: 57, duration: 3.333s, episode steps: 200, steps per second: 60, episode reward: 200.000, mean reward: 1.000 [1.000, 1.000], mean action: 0.510 [0.000, 1.000], mean observation: 0.111 [-0.989, 1.377], loss: 0.730806, mae: 9.614427, mean_q: 19.666824\n",
      " 2464/10000: episode: 58, duration: 3.333s, episode steps: 200, steps per second: 60, episode reward: 200.000, mean reward: 1.000 [1.000, 1.000], mean action: 0.485 [0.000, 1.000], mean observation: -0.226 [-1.675, 0.928], loss: 1.131916, mae: 10.644091, mean_q: 21.657961\n",
      " 2664/10000: episode: 59, duration: 3.333s, episode steps: 200, steps per second: 60, episode reward: 200.000, mean reward: 1.000 [1.000, 1.000], mean action: 0.500 [0.000, 1.000], mean observation: 0.063 [-1.060, 1.093], loss: 0.974713, mae: 11.630779, mean_q: 23.654339\n",
      " 2864/10000: episode: 60, duration: 3.333s, episode steps: 200, steps per second: 60, episode reward: 200.000, mean reward: 1.000 [1.000, 1.000], mean action: 0.490 [0.000, 1.000], mean observation: -0.131 [-1.175, 1.025], loss: 0.915707, mae: 12.668597, mean_q: 25.802637\n",
      " 3039/10000: episode: 61, duration: 2.916s, episode steps: 175, steps per second: 60, episode reward: 175.000, mean reward: 1.000 [1.000, 1.000], mean action: 0.469 [0.000, 1.000], mean observation: -0.383 [-2.419, 1.079], loss: 1.331146, mae: 13.648075, mean_q: 27.783548\n",
      " 3209/10000: episode: 62, duration: 2.832s, episode steps: 170, steps per second: 60, episode reward: 170.000, mean reward: 1.000 [1.000, 1.000], mean action: 0.465 [0.000, 1.000], mean observation: -0.394 [-2.423, 0.840], loss: 1.670871, mae: 14.421263, mean_q: 29.337154\n",
      " 3401/10000: episode: 63, duration: 3.200s, episode steps: 192, steps per second: 60, episode reward: 192.000, mean reward: 1.000 [1.000, 1.000], mean action: 0.469 [0.000, 1.000], mean observation: -0.355 [-2.416, 0.979], loss: 1.546860, mae: 15.199237, mean_q: 30.942198\n"
     ]
    },
    {
     "name": "stdout",
     "output_type": "stream",
     "text": [
      " 3601/10000: episode: 64, duration: 3.333s, episode steps: 200, steps per second: 60, episode reward: 200.000, mean reward: 1.000 [1.000, 1.000], mean action: 0.480 [0.000, 1.000], mean observation: -0.228 [-1.652, 0.915], loss: 1.751583, mae: 16.031843, mean_q: 32.580887\n",
      " 3769/10000: episode: 65, duration: 2.799s, episode steps: 168, steps per second: 60, episode reward: 168.000, mean reward: 1.000 [1.000, 1.000], mean action: 0.464 [0.000, 1.000], mean observation: -0.395 [-2.416, 0.972], loss: 1.740131, mae: 16.874796, mean_q: 34.314507\n",
      " 3969/10000: episode: 66, duration: 3.333s, episode steps: 200, steps per second: 60, episode reward: 200.000, mean reward: 1.000 [1.000, 1.000], mean action: 0.490 [0.000, 1.000], mean observation: -0.129 [-1.094, 1.116], loss: 1.921637, mae: 17.642860, mean_q: 35.876720\n",
      " 4164/10000: episode: 67, duration: 3.249s, episode steps: 195, steps per second: 60, episode reward: 195.000, mean reward: 1.000 [1.000, 1.000], mean action: 0.472 [0.000, 1.000], mean observation: -0.349 [-2.409, 0.782], loss: 2.172671, mae: 18.511568, mean_q: 37.638477\n",
      " 4364/10000: episode: 68, duration: 3.332s, episode steps: 200, steps per second: 60, episode reward: 200.000, mean reward: 1.000 [1.000, 1.000], mean action: 0.485 [0.000, 1.000], mean observation: -0.137 [-1.085, 0.999], loss: 2.395532, mae: 19.311882, mean_q: 39.324074\n",
      " 4556/10000: episode: 69, duration: 3.200s, episode steps: 192, steps per second: 60, episode reward: 192.000, mean reward: 1.000 [1.000, 1.000], mean action: 0.469 [0.000, 1.000], mean observation: -0.361 [-2.439, 0.911], loss: 1.864671, mae: 20.242561, mean_q: 41.179016\n",
      " 4756/10000: episode: 70, duration: 3.332s, episode steps: 200, steps per second: 60, episode reward: 200.000, mean reward: 1.000 [1.000, 1.000], mean action: 0.485 [0.000, 1.000], mean observation: -0.158 [-1.288, 0.759], loss: 2.700355, mae: 20.951696, mean_q: 42.587101\n",
      " 4956/10000: episode: 71, duration: 3.332s, episode steps: 200, steps per second: 60, episode reward: 200.000, mean reward: 1.000 [1.000, 1.000], mean action: 0.495 [0.000, 1.000], mean observation: -0.057 [-0.817, 0.995], loss: 3.037215, mae: 21.752949, mean_q: 44.056709\n",
      " 5156/10000: episode: 72, duration: 3.333s, episode steps: 200, steps per second: 60, episode reward: 200.000, mean reward: 1.000 [1.000, 1.000], mean action: 0.495 [0.000, 1.000], mean observation: -0.036 [-0.913, 1.047], loss: 2.735920, mae: 22.618477, mean_q: 45.878693\n",
      " 5342/10000: episode: 73, duration: 3.100s, episode steps: 186, steps per second: 60, episode reward: 186.000, mean reward: 1.000 [1.000, 1.000], mean action: 0.473 [0.000, 1.000], mean observation: -0.367 [-2.426, 0.710], loss: 3.127173, mae: 23.294149, mean_q: 47.282478\n",
      " 5542/10000: episode: 74, duration: 3.333s, episode steps: 200, steps per second: 60, episode reward: 200.000, mean reward: 1.000 [1.000, 1.000], mean action: 0.500 [0.000, 1.000], mean observation: 0.007 [-0.892, 0.838], loss: 4.196233, mae: 23.904776, mean_q: 48.354305\n",
      " 5742/10000: episode: 75, duration: 3.332s, episode steps: 200, steps per second: 60, episode reward: 200.000, mean reward: 1.000 [1.000, 1.000], mean action: 0.485 [0.000, 1.000], mean observation: -0.168 [-1.264, 0.898], loss: 3.380187, mae: 24.614368, mean_q: 49.936230\n",
      " 5942/10000: episode: 76, duration: 3.333s, episode steps: 200, steps per second: 60, episode reward: 200.000, mean reward: 1.000 [1.000, 1.000], mean action: 0.495 [0.000, 1.000], mean observation: -0.064 [-0.900, 1.001], loss: 3.848004, mae: 25.296587, mean_q: 51.332275\n",
      " 6133/10000: episode: 77, duration: 3.183s, episode steps: 191, steps per second: 60, episode reward: 191.000, mean reward: 1.000 [1.000, 1.000], mean action: 0.471 [0.000, 1.000], mean observation: -0.365 [-2.432, 0.770], loss: 3.377244, mae: 25.885639, mean_q: 52.566483\n",
      " 6333/10000: episode: 78, duration: 3.333s, episode steps: 200, steps per second: 60, episode reward: 200.000, mean reward: 1.000 [1.000, 1.000], mean action: 0.505 [0.000, 1.000], mean observation: 0.024 [-0.860, 1.030], loss: 3.508233, mae: 26.533531, mean_q: 53.854324\n",
      " 6533/10000: episode: 79, duration: 3.332s, episode steps: 200, steps per second: 60, episode reward: 200.000, mean reward: 1.000 [1.000, 1.000], mean action: 0.475 [0.000, 1.000], mean observation: -0.290 [-2.047, 0.586], loss: 3.908046, mae: 27.289169, mean_q: 55.232861\n",
      " 6733/10000: episode: 80, duration: 3.333s, episode steps: 200, steps per second: 60, episode reward: 200.000, mean reward: 1.000 [1.000, 1.000], mean action: 0.475 [0.000, 1.000], mean observation: -0.342 [-2.378, 0.854], loss: 4.109750, mae: 27.670330, mean_q: 56.100624\n",
      " 6933/10000: episode: 81, duration: 3.333s, episode steps: 200, steps per second: 60, episode reward: 200.000, mean reward: 1.000 [1.000, 1.000], mean action: 0.485 [0.000, 1.000], mean observation: -0.228 [-1.579, 1.084], loss: 5.064125, mae: 28.339663, mean_q: 57.395599\n",
      " 7133/10000: episode: 82, duration: 3.333s, episode steps: 200, steps per second: 60, episode reward: 200.000, mean reward: 1.000 [1.000, 1.000], mean action: 0.480 [0.000, 1.000], mean observation: -0.283 [-2.004, 0.845], loss: 2.905219, mae: 28.963652, mean_q: 58.705860\n",
      " 7333/10000: episode: 83, duration: 3.333s, episode steps: 200, steps per second: 60, episode reward: 200.000, mean reward: 1.000 [1.000, 1.000], mean action: 0.475 [0.000, 1.000], mean observation: -0.279 [-1.984, 0.783], loss: 3.576695, mae: 29.371496, mean_q: 59.543854\n",
      " 7533/10000: episode: 84, duration: 3.332s, episode steps: 200, steps per second: 60, episode reward: 200.000, mean reward: 1.000 [1.000, 1.000], mean action: 0.480 [0.000, 1.000], mean observation: -0.216 [-1.618, 0.827], loss: 3.308912, mae: 29.880627, mean_q: 60.660202\n",
      " 7733/10000: episode: 85, duration: 3.334s, episode steps: 200, steps per second: 60, episode reward: 200.000, mean reward: 1.000 [1.000, 1.000], mean action: 0.485 [0.000, 1.000], mean observation: -0.122 [-1.120, 0.842], loss: 3.007082, mae: 30.374876, mean_q: 61.596676\n",
      " 7933/10000: episode: 86, duration: 3.333s, episode steps: 200, steps per second: 60, episode reward: 200.000, mean reward: 1.000 [1.000, 1.000], mean action: 0.480 [0.000, 1.000], mean observation: -0.191 [-1.657, 0.934], loss: 7.042964, mae: 31.048359, mean_q: 62.713955\n",
      " 8133/10000: episode: 87, duration: 3.333s, episode steps: 200, steps per second: 60, episode reward: 200.000, mean reward: 1.000 [1.000, 1.000], mean action: 0.475 [0.000, 1.000], mean observation: -0.304 [-2.121, 0.712], loss: 3.631717, mae: 31.356176, mean_q: 63.435234\n",
      " 8333/10000: episode: 88, duration: 3.333s, episode steps: 200, steps per second: 60, episode reward: 200.000, mean reward: 1.000 [1.000, 1.000], mean action: 0.475 [0.000, 1.000], mean observation: -0.342 [-2.411, 1.233], loss: 5.071243, mae: 31.975489, mean_q: 64.721527\n",
      " 8533/10000: episode: 89, duration: 3.333s, episode steps: 200, steps per second: 60, episode reward: 200.000, mean reward: 1.000 [1.000, 1.000], mean action: 0.485 [0.000, 1.000], mean observation: -0.197 [-1.501, 0.686], loss: 6.185016, mae: 32.300812, mean_q: 65.200340\n",
      " 8733/10000: episode: 90, duration: 3.333s, episode steps: 200, steps per second: 60, episode reward: 200.000, mean reward: 1.000 [1.000, 1.000], mean action: 0.480 [0.000, 1.000], mean observation: -0.223 [-1.599, 0.699], loss: 3.670416, mae: 32.788342, mean_q: 66.349899\n",
      " 8931/10000: episode: 91, duration: 3.299s, episode steps: 198, steps per second: 60, episode reward: 198.000, mean reward: 1.000 [1.000, 1.000], mean action: 0.475 [0.000, 1.000], mean observation: -0.309 [-2.109, 1.103], loss: 6.148619, mae: 33.185871, mean_q: 67.063744\n",
      " 9131/10000: episode: 92, duration: 3.332s, episode steps: 200, steps per second: 60, episode reward: 200.000, mean reward: 1.000 [1.000, 1.000], mean action: 0.485 [0.000, 1.000], mean observation: -0.231 [-1.688, 0.828], loss: 5.828970, mae: 33.412697, mean_q: 67.473732\n",
      " 9331/10000: episode: 93, duration: 3.334s, episode steps: 200, steps per second: 60, episode reward: 200.000, mean reward: 1.000 [1.000, 1.000], mean action: 0.480 [0.000, 1.000], mean observation: -0.317 [-2.236, 0.701], loss: 5.866503, mae: 33.956783, mean_q: 68.635452\n",
      " 9531/10000: episode: 94, duration: 3.332s, episode steps: 200, steps per second: 60, episode reward: 200.000, mean reward: 1.000 [1.000, 1.000], mean action: 0.480 [0.000, 1.000], mean observation: -0.308 [-2.148, 0.839], loss: 4.965261, mae: 33.878304, mean_q: 68.434906\n"
     ]
    },
    {
     "name": "stdout",
     "output_type": "stream",
     "text": [
      " 9731/10000: episode: 95, duration: 3.333s, episode steps: 200, steps per second: 60, episode reward: 200.000, mean reward: 1.000 [1.000, 1.000], mean action: 0.505 [0.000, 1.000], mean observation: 0.049 [-0.768, 1.134], loss: 5.432191, mae: 34.308769, mean_q: 69.304535\n",
      " 9931/10000: episode: 96, duration: 3.333s, episode steps: 200, steps per second: 60, episode reward: 200.000, mean reward: 1.000 [1.000, 1.000], mean action: 0.490 [0.000, 1.000], mean observation: -0.109 [-1.073, 0.783], loss: 5.466779, mae: 34.875099, mean_q: 70.491280\n",
      "done, took 167.789 seconds\n",
      "Testing for 5 episodes ...\n",
      "Episode 1: reward: 200.000, steps: 200\n",
      "Episode 2: reward: 200.000, steps: 200\n",
      "Episode 3: reward: 200.000, steps: 200\n",
      "Episode 4: reward: 200.000, steps: 200\n",
      "Episode 5: reward: 200.000, steps: 200\n"
     ]
    },
    {
     "data": {
      "text/plain": [
       "<keras.callbacks.callbacks.History at 0x25b2488e080>"
      ]
     },
     "execution_count": 1,
     "metadata": {},
     "output_type": "execute_result"
    }
   ],
   "source": [
    "import numpy as np\n",
    "import gym\n",
    "\n",
    "from keras.models import Sequential\n",
    "from keras.layers import Dense, Activation, Flatten\n",
    "from keras.optimizers import Adam\n",
    "\n",
    "from rl.agents.dqn import DQNAgent\n",
    "from rl.policy import BoltzmannQPolicy\n",
    "from rl.memory import SequentialMemory\n",
    "\n",
    "\n",
    "import tensorflow as tf\n",
    "from keras.backend import tensorflow_backend\n",
    "\n",
    "config = tf.compat.v1.ConfigProto(gpu_options=tf.compat.v1.GPUOptions(allow_growth=True))\n",
    "session = tf.compat.v1.Session(config=config)\n",
    "tensorflow_backend.set_session(session)\n",
    "\n",
    "ENV_NAME = 'CartPole-v0'\n",
    "\n",
    "\n",
    "# Get the environment and extract the number of actions.\n",
    "env = gym.make(ENV_NAME)\n",
    "np.random.seed(123)\n",
    "env.seed(123)\n",
    "nb_actions = env.action_space.n\n",
    "\n",
    "# Next, we build a very simple model.\n",
    "model = Sequential()\n",
    "model.add(Flatten(input_shape=(1,) + env.observation_space.shape))\n",
    "model.add(Dense(16))\n",
    "model.add(Activation('relu'))\n",
    "model.add(Dense(16))\n",
    "model.add(Activation('relu'))\n",
    "model.add(Dense(16))\n",
    "model.add(Activation('relu'))\n",
    "model.add(Dense(nb_actions))\n",
    "model.add(Activation('linear'))\n",
    "print(model.summary())\n",
    "\n",
    "# Finally, we configure and compile our agent. You can use every built-in Keras optimizer and\n",
    "# even the metrics!\n",
    "memory = SequentialMemory(limit=10000, window_length=1)\n",
    "policy = BoltzmannQPolicy()\n",
    "dqn = DQNAgent(model=model, nb_actions=nb_actions, memory=memory, nb_steps_warmup=10,\n",
    "               target_model_update=1e-2, policy=policy)\n",
    "dqn.compile(Adam(lr=1e-3), metrics=['mae'])\n",
    "\n",
    "# Okay, now it's time to learn something! We visualize the training here for show, but this\n",
    "# slows down training quite a lot. You can always safely abort the training prematurely using\n",
    "# Ctrl + C.\n",
    "dqn.fit(env, nb_steps=10000, visualize=True, verbose=2)\n",
    "\n",
    "# After training is done, we save the final weights.\n",
    "dqn.save_weights('dqn_{}_weights.h5f'.format(ENV_NAME), overwrite=True)\n",
    "\n",
    "# Finally, evaluate our algorithm for 5 episodes.\n",
    "dqn.test(env, nb_episodes=5, visualize=True)"
   ]
  },
  {
   "cell_type": "code",
   "execution_count": 2,
   "metadata": {},
   "outputs": [
    {
     "name": "stdout",
     "output_type": "stream",
     "text": [
      "Training for 10000 steps ...\n",
      "Interval 1 (0 steps performed)\n",
      "10000/10000 [==============================] - 34s 3ms/step - reward: 1.0000\n",
      "done, took 34.268 seconds\n"
     ]
    },
    {
     "data": {
      "image/png": "[encoded data removed]",
      "text/plain": [
       "<Figure size 432x288 with 2 Axes>"
      ]
     },
     "metadata": {
      "needs_background": "light"
     },
     "output_type": "display_data"
    }
   ],
   "source": [
    "import matplotlib.pyplot as plt\n",
    "\n",
    "# fit の結果を取得しておく\n",
    "history = dqn.fit(env, nb_steps=10000, visualize=False, verbose=1)\n",
    "\n",
    "# 結果を表示\n",
    "plt.subplot(2,1,1)\n",
    "plt.plot(history.history[\"nb_episode_steps\"])\n",
    "plt.ylabel(\"step\")\n",
    "\n",
    "plt.subplot(2,1,2)\n",
    "plt.plot(history.history[\"episode_reward\"])\n",
    "plt.xlabel(\"episode\")\n",
    "plt.ylabel(\"reward\")\n",
    "\n",
    "plt.show()  # windowが表示されます。"
   ]
  },
  {
   "cell_type": "code",
   "execution_count": null,
   "metadata": {},
   "outputs": [],
   "source": []
  }
 ],
 "metadata": {
  "kernelspec": {
   "display_name": "Python 3",
   "language": "python",
   "name": "python3"
  },
  "language_info": {
   "codemirror_mode": {
    "name": "ipython",
    "version": 3
   },
   "file_extension": ".py",
   "mimetype": "text/x-python",
   "name": "python",
   "nbconvert_exporter": "python",
   "pygments_lexer": "ipython3",
   "version": "3.6.9"
  }
 },
 "nbformat": 4,
 "nbformat_minor": 2
}
